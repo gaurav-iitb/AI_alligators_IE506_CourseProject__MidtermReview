{
  "cells": [
    {
      "cell_type": "code",
      "execution_count": 28,
      "metadata": {
        "colab": {
          "base_uri": "https://localhost:8080/"
        },
        "id": "gQjsbJinq6CH",
        "outputId": "8f96386f-1ca2-4369-9b94-9070d980d1c3"
      },
      "outputs": [
        {
          "output_type": "stream",
          "name": "stdout",
          "text": [
            "Requirement already satisfied: bigtree in /usr/local/lib/python3.10/dist-packages (0.16.4)\n"
          ]
        }
      ],
      "source": [
        "pip install bigtree"
      ]
    },
    {
      "cell_type": "code",
      "execution_count": 29,
      "metadata": {
        "id": "3Klsa7VPwEde"
      },
      "outputs": [],
      "source": [
        "# installing the required packages\n",
        "import numpy as np\n",
        "from scipy.stats import gaussian_kde\n",
        "from sklearn.base import BaseEstimator, ClassifierMixin\n",
        "from sklearn.datasets import load_iris\n",
        "from sklearn.model_selection import train_test_split\n",
        "from sklearn.neighbors import KernelDensity\n",
        "import pandas as pd\n",
        "from bigtree import dataframe_to_tree\n",
        "from scipy.optimize import minimize\n",
        "from scipy.signal import find_peaks\n",
        "import matplotlib.pyplot as plt\n"
      ]
    },
    {
      "cell_type": "code",
      "execution_count": 30,
      "metadata": {
        "id": "4RCiUwQfwOgv"
      },
      "outputs": [],
      "source": [
        "# Load the Iris dataset\n",
        "x, y = load_iris(return_X_y=True)"
      ]
    },
    {
      "cell_type": "code",
      "source": [
        "print(\"x data instance:-\", len(x),\"\\n\",x[:5])"
      ],
      "metadata": {
        "colab": {
          "base_uri": "https://localhost:8080/"
        },
        "id": "Bi83dqLzM2YO",
        "outputId": "bfea3196-8db5-4b18-97d2-15be61f7c6b0"
      },
      "execution_count": 31,
      "outputs": [
        {
          "output_type": "stream",
          "name": "stdout",
          "text": [
            "x data instance:- 150 \n",
            " [[5.1 3.5 1.4 0.2]\n",
            " [4.9 3.  1.4 0.2]\n",
            " [4.7 3.2 1.3 0.2]\n",
            " [4.6 3.1 1.5 0.2]\n",
            " [5.  3.6 1.4 0.2]]\n"
          ]
        }
      ]
    },
    {
      "cell_type": "code",
      "source": [
        "print(\"y is\", y)"
      ],
      "metadata": {
        "colab": {
          "base_uri": "https://localhost:8080/"
        },
        "id": "vvmKHrVEM4IM",
        "outputId": "54f1cbd3-6722-48f7-f9d2-4048f01e82bc"
      },
      "execution_count": 32,
      "outputs": [
        {
          "output_type": "stream",
          "name": "stdout",
          "text": [
            "y is [0 0 0 0 0 0 0 0 0 0 0 0 0 0 0 0 0 0 0 0 0 0 0 0 0 0 0 0 0 0 0 0 0 0 0 0 0\n",
            " 0 0 0 0 0 0 0 0 0 0 0 0 0 1 1 1 1 1 1 1 1 1 1 1 1 1 1 1 1 1 1 1 1 1 1 1 1\n",
            " 1 1 1 1 1 1 1 1 1 1 1 1 1 1 1 1 1 1 1 1 1 1 1 1 1 1 2 2 2 2 2 2 2 2 2 2 2\n",
            " 2 2 2 2 2 2 2 2 2 2 2 2 2 2 2 2 2 2 2 2 2 2 2 2 2 2 2 2 2 2 2 2 2 2 2 2 2\n",
            " 2 2]\n"
          ]
        }
      ]
    },
    {
      "cell_type": "code",
      "execution_count": 33,
      "metadata": {
        "id": "Qwa7sO-Z1j0P"
      },
      "outputs": [],
      "source": [
        "# for Class 0\n",
        "x0=x[y==0]\n",
        "y0=y[y==0]"
      ]
    },
    {
      "cell_type": "code",
      "execution_count": 34,
      "metadata": {
        "id": "ojMrvwWnKCXU"
      },
      "outputs": [],
      "source": [
        "# for Class 1\n",
        "x1=x[y==1]\n",
        "y1=y[y==1]"
      ]
    },
    {
      "cell_type": "code",
      "execution_count": 35,
      "metadata": {
        "id": "8Y3IdIPKRYUj"
      },
      "outputs": [],
      "source": [
        "# for Class 2\n",
        "x2=x[y==2]\n",
        "y2=y[y==2]"
      ]
    },
    {
      "cell_type": "code",
      "source": [
        "x0[:5]"
      ],
      "metadata": {
        "colab": {
          "base_uri": "https://localhost:8080/"
        },
        "id": "LMee4x71QJ8s",
        "outputId": "36dffb85-4008-47e3-b8a1-07c76de229c5"
      },
      "execution_count": 36,
      "outputs": [
        {
          "output_type": "execute_result",
          "data": {
            "text/plain": [
              "array([[5.1, 3.5, 1.4, 0.2],\n",
              "       [4.9, 3. , 1.4, 0.2],\n",
              "       [4.7, 3.2, 1.3, 0.2],\n",
              "       [4.6, 3.1, 1.5, 0.2],\n",
              "       [5. , 3.6, 1.4, 0.2]])"
            ]
          },
          "metadata": {},
          "execution_count": 36
        }
      ]
    },
    {
      "cell_type": "code",
      "execution_count": 37,
      "metadata": {
        "colab": {
          "base_uri": "https://localhost:8080/"
        },
        "id": "jTibLKxm87uQ",
        "outputId": "66a03ba6-2841-4b90-cca6-ac4ee3e341e6"
      },
      "outputs": [
        {
          "output_type": "execute_result",
          "data": {
            "text/plain": [
              "(50, 4)"
            ]
          },
          "metadata": {},
          "execution_count": 37
        }
      ],
      "source": [
        "x0.shape"
      ]
    },
    {
      "cell_type": "code",
      "execution_count": 38,
      "metadata": {
        "colab": {
          "base_uri": "https://localhost:8080/"
        },
        "id": "x9tcJZPE82xZ",
        "outputId": "d4153a1e-1e3a-4a20-b2fb-dc7d23a17142"
      },
      "outputs": [
        {
          "output_type": "execute_result",
          "data": {
            "text/plain": [
              "(50,)"
            ]
          },
          "metadata": {},
          "execution_count": 38
        }
      ],
      "source": [
        "y0.shape"
      ]
    },
    {
      "cell_type": "code",
      "execution_count": 39,
      "metadata": {
        "id": "kJ5TCT_wrAe2"
      },
      "outputs": [],
      "source": [
        "# taking default values as given in the research paper\n",
        "gmm=0.05\n",
        "alp=0.5\n",
        "beta=0.02\n",
        "nu=0.05\n",
        "max_depth=4"
      ]
    },
    {
      "cell_type": "code",
      "execution_count": 40,
      "metadata": {
        "id": "crn2LA97VSLY"
      },
      "outputs": [],
      "source": [
        "def all_elements_same(items):\n",
        "    return len(set(items)) == 1\n",
        "\n",
        "# bandwidth calculating function\n",
        "def h_t(dt):\n",
        "    if(all_elements_same(dt)):\n",
        "       return 0.9*0.001*((len(dt))**(-0.2))\n",
        "    dte=dt.copy()\n",
        "    dte.sort()\n",
        "    Q1 = np.percentile(dte, 25)\n",
        "    Q3 = np.percentile(dte, 75)\n",
        "    IQR = Q3 - Q1\n",
        "    std_dev = np.std(dte)\n",
        "    if(float(IQR)!=0.0) :\n",
        "     return 0.9*(min(std_dev,IQR/1.34))*((len(dte))**(-0.2))\n",
        "    else :\n",
        "     return 0.9*std_dev*((len(dte))**(-0.2))"
      ]
    },
    {
      "cell_type": "code",
      "execution_count": 41,
      "metadata": {
        "id": "HBTUENEBsssf"
      },
      "outputs": [],
      "source": [
        "def split_data(dt,k):\n",
        "  heights = dt.reshape(-1, 1)\n",
        "\n",
        "  # Create a KDE estimator\n",
        "  kde = KernelDensity(kernel='gaussian', bandwidth=h_t(dt)).fit(heights)\n",
        "\n",
        "  # Generate points for density estimation\n",
        "  x_len = np.linspace(min(heights)-1,max(heights)+1, 1000).reshape(-1, 1)\n",
        "\n",
        "  # Estimate the density\n",
        "  log_dens = kde.score_samples(x_len)\n",
        "  dens = np.exp(log_dens)\n",
        "\n",
        "\n",
        "  peaks, _ = find_peaks(dens) # peaks contains the maxima points\n",
        "  minima, _ = find_peaks(-dens) # minima contains the minima points\n",
        "  dte=dt.copy()\n",
        "  maxima=peaks.copy()\n",
        "  dte.sort()\n",
        "  for i in range(len(minima)):\n",
        "    peaks=np.append(peaks,minima[i])\n",
        "  mx_mn=[]\n",
        "  peaks.sort()\n",
        "  for i in range(len(peaks)):\n",
        "    mx_mn.append([peaks[i],dens[peaks[i]]])\n",
        "  mx_mn=np.array(mx_mn)\n",
        "  mx=-99999999\n",
        "  mn=999999999\n",
        "  new_dte=[]\n",
        "  for  i in range(len(dte)): # removing data points whose kde values are below gamma * max_peak\n",
        "    if(np.exp(kde.score_samples([[dte[i]]]))[0]<gmm*max(mx_mn[:,1])):\n",
        "     continue\n",
        "    else :\n",
        "      mx=max(mx,dte[i])\n",
        "      mn=min(mn,dte[i])\n",
        "      new_dte.append([dte[i],np.exp(kde.score_samples([[dte[i]]]))[0]])\n",
        "\n",
        "  # creating a limits array based on condition given in research paper\n",
        "  limits=[]\n",
        "  limits.append(mn)\n",
        "  for i in range(len(peaks)):\n",
        "    if(i%2==1):\n",
        "      if(mx_mn[i][1]<=alp*min(mx_mn[i-1][1],mx_mn[i+1][1])):\n",
        "        limits.append(x_len[int(mx_mn[i][0])][0])\n",
        "  limits.append(mx)\n",
        "\n",
        "  splits=[]\n",
        "  n_dash=len(dt)*(1/(max(dt)-min(dt)))\n",
        "  impurity=0.0\n",
        "\n",
        "  # creating splits from limits\n",
        "  for i in range(1,len(limits)):\n",
        "    mxx=-99999999.9\n",
        "    mnn=999999999.9\n",
        "    n=0\n",
        "    for j in range(len(new_dte)):\n",
        "      if(new_dte[j][0]>=limits[i-1] and new_dte[j][0]<=limits[i]):\n",
        "         mxx=max(mxx,new_dte[j][0])\n",
        "         mnn=min(mnn,new_dte[j][0])\n",
        "         n+=1\n",
        "    if(n<=k):\n",
        "      continue\n",
        "    else:\n",
        "      impurity+=(n*n_dash*(mxx-mnn))/(n+n_dash*(mxx-mnn)) # calculating the impurity\n",
        "      splits.append([mnn,mxx])\n",
        "  if(len(splits)==0):\n",
        "    if(limits[0]==limits[1]):\n",
        "      return [[]],99999999\n",
        "    else :\n",
        "      return [limits],(len(new_dte)*n_dash*(limits[1]-limits[0]))/(len(new_dte)+n_dash*(limits[1]-limits[0]))\n",
        "  else :\n",
        "    new_splits = []\n",
        "    for i in range(len(splits)):\n",
        "      if(splits[i][0]!=splits[i][1]):\n",
        "        new_splits.append(splits[i])\n",
        "\n",
        "    splits = new_splits\n",
        "    return splits,impurity # returning the splits containing array of (Li, Ri) and the impurity"
      ]
    },
    {
      "cell_type": "code",
      "source": [
        "# Plotting the KDE plot for class 0 feature 3 for just checking how the plot looks\n",
        "x=x0[:,3]\n",
        "heights = x.reshape(-1, 1)\n",
        "\n",
        "# Create a KDE estimator\n",
        "kde = KernelDensity(kernel='gaussian', bandwidth=h_t(x)).fit(heights)\n",
        "\n",
        "# Generate points for density estimation\n",
        "x_len = np.linspace(min(heights)-1,max(heights)+1, 1000).reshape(-1, 1)\n",
        "\n",
        "# Estimate the density\n",
        "log_dens = kde.score_samples(x_len)\n",
        "dens = np.exp(log_dens)\n",
        "plt.plot(x_len,dens)"
      ],
      "metadata": {
        "colab": {
          "base_uri": "https://localhost:8080/",
          "height": 448
        },
        "id": "nrnSggbpi-JT",
        "outputId": "d446d127-bfa6-436a-c666-20542c2eda37"
      },
      "execution_count": 42,
      "outputs": [
        {
          "output_type": "execute_result",
          "data": {
            "text/plain": [
              "[<matplotlib.lines.Line2D at 0x7b894a399b10>]"
            ]
          },
          "metadata": {},
          "execution_count": 42
        },
        {
          "output_type": "display_data",
          "data": {
            "text/plain": [
              "<Figure size 640x480 with 1 Axes>"
            ],
            "image/png": "[encoded data removed]"
          },
          "metadata": {}
        }
      ]
    },
    {
      "cell_type": "code",
      "source": [
        "def impurity_same(impty):\n",
        "  item=[]\n",
        "  for i in impty:\n",
        "     item.append(impty[i])\n",
        "  return all_elements_same(item)"
      ],
      "metadata": {
        "id": "b3jmatBXs9ZC"
      },
      "execution_count": 43,
      "outputs": []
    },
    {
      "cell_type": "code",
      "source": [
        "def check_sl(s): # checks the depth of the oc tree\n",
        "  c=0\n",
        "  for i in range(len(s)):\n",
        "    if(s[i]==\"/\"):\n",
        "      c+=1\n",
        "  return c"
      ],
      "metadata": {
        "id": "xVAEiCgW87nv"
      },
      "execution_count": 44,
      "outputs": []
    },
    {
      "cell_type": "code",
      "execution_count": 45,
      "metadata": {
        "id": "4GgSFo-Mx0d5"
      },
      "outputs": [],
      "source": [
        "dft = pd.DataFrame( [],columns=[\"PATH\",\"ATR\",\"LR\"]) # creating a dataframe which will be converted into oc Tree\n",
        "\n",
        "# taking 2 d array of data and variables for storing paths for future work of OC Tree ( fcc )\n",
        "def fit(data,fcc,k,s,dft):\n",
        " data = np.array(data) if isinstance(data, list) else data\n",
        "\n",
        " if(fcc==0):\n",
        "  dft.loc[len(dft.index)] =[s, None,None]\n",
        "  fit(data,fcc+1,k,s,dft)\n",
        " else :\n",
        "  if(fcc!=1):\n",
        "    if(  check_sl(dft.iloc[len(dft.index)-1]['PATH'])>=max_depth): # local  and global Stopping Conditions\n",
        "     return\n",
        "    else:\n",
        "      dict={}\n",
        "      impurity={}\n",
        "      for j in range(len(data[0])):\n",
        "        dict[j],impurity[j]=split_data(data[:,j],k) # calculating splits and impurity for each feature\n",
        "      mn=9999999\n",
        "      key=0\n",
        "      if(impurity_same(impurity)): # taking best feature for splits based on impurity\n",
        "         c=check_sl(dft.iloc[len(dft.index)-1]['PATH'])\n",
        "         arr={}\n",
        "         atr_min_cnt=99999\n",
        "         for j in range(len(data[0])):\n",
        "          arr[j]=0\n",
        "         for i in range(len(dft.index)-1,len(dft.index)-1-c,-1):\n",
        "           arr[(dft.iloc[i]['ATR'])]+=1\n",
        "         for j in arr:\n",
        "           if(arr[j]<atr_min_cnt):\n",
        "            atr_min_cnt=arr[j]\n",
        "            key=j\n",
        "\n",
        "      else :\n",
        "       for j in impurity:\n",
        "            if(impurity[j]<mn):\n",
        "              mn=impurity[j]\n",
        "              key=j\n",
        "      split=dict[key]\n",
        "      dte =[]\n",
        "      for i in range(len(split)):\n",
        "        chi=[]\n",
        "        for j in range(len(data)):\n",
        "          if( data[j][key]>=split[i][0] and data[j][key]<=split[i][1]):\n",
        "               chi.append(data[j])\n",
        "        dte.append(chi)\n",
        "      for i in range(len(dte)):\n",
        "        s+='/'+str(fcc)\n",
        "        val = split[i]\n",
        "\n",
        "        dft.loc[len(dft.index)] = [s,key,val] # storing path , feature, splits limit\n",
        "\n",
        "        fit(dte[i],fcc+1,k,s,dft) # making the Recursive Call for the next node\n",
        "        s=s[:-2]\n",
        "\n",
        "  else :\n",
        "      dict={}\n",
        "      impurity={}\n",
        "      for j in range(len(data[0])):\n",
        "        dict[j],impurity[j]=split_data(data[:,j],k)\n",
        "      mn=9999999\n",
        "      key=0\n",
        "\n",
        "      for j in impurity:\n",
        "          if(impurity[j]<mn):\n",
        "            mn=impurity[j]\n",
        "            key=j\n",
        "      split=m=np.array(dict[(key)])\n",
        "\n",
        "      dte =[]\n",
        "\n",
        "      for i in range(len(split)):\n",
        "        chi=[]\n",
        "        for j in range(len(data)):\n",
        "          if( data[j][key]>=split[i][0] and data[j][key]<=split[i][1]):\n",
        "               chi.append(data[j])\n",
        "        dte.append(chi)\n",
        "\n",
        "\n",
        "      for i in range(len(dte)):\n",
        "        s+='/'+str(fcc)\n",
        "        val = split[i]\n",
        "\n",
        "        dft.loc[len(dft.index)] = [s,key,val]\n",
        "        fit(dte[i],fcc+1,k,s,dft)\n",
        "        s=s[:-2]\n"
      ]
    },
    {
      "cell_type": "code",
      "execution_count": 46,
      "metadata": {
        "id": "fyejOVIRJMcg"
      },
      "outputs": [],
      "source": [
        "fit(x0,0,int(beta*len(x0)),'0',dft) # storing the oc Tree into dataframe"
      ]
    },
    {
      "cell_type": "code",
      "source": [
        "print(dft)"
      ],
      "metadata": {
        "colab": {
          "base_uri": "https://localhost:8080/"
        },
        "id": "ensmEjQuTbOC",
        "outputId": "c9aa2082-0cc5-49b3-83e7-7271aaee9b5d"
      },
      "execution_count": 47,
      "outputs": [
        {
          "output_type": "stream",
          "name": "stdout",
          "text": [
            "        PATH   ATR          LR\n",
            "0          0  None        None\n",
            "1        0/1     3  [0.1, 0.4]\n",
            "2      0/1/2     1  [2.9, 4.4]\n",
            "3    0/1/2/3     2  [1.0, 1.7]\n",
            "4  0/1/2/3/4     0  [4.3, 5.8]\n"
          ]
        }
      ]
    },
    {
      "cell_type": "code",
      "execution_count": 48,
      "metadata": {
        "colab": {
          "base_uri": "https://localhost:8080/"
        },
        "id": "Inc5OVdiBfCk",
        "outputId": "41185b2b-33bb-48c6-a08f-afc92cb58f82"
      },
      "outputs": [
        {
          "output_type": "stream",
          "name": "stdout",
          "text": [
            "0 [ATR=None, LR=None]\n",
            "└── 1 [ATR=3, LR=[0.1 0.4]]\n",
            "    └── 2 [ATR=1, LR=[2.9, 4.4]]\n",
            "        └── 3 [ATR=2, LR=[1.0, 1.7]]\n",
            "            └── 4 [ATR=0, LR=[4.3, 5.8]]\n"
          ]
        }
      ],
      "source": [
        "# Converting dataframe to Tree\n",
        "rooot = dataframe_to_tree(dft)\n",
        "rooot.show(attr_list=[\"PATH\",\"ATR\",\"LR\"])"
      ]
    },
    {
      "cell_type": "code",
      "source": [
        "# function for prediction of class given 1d array\n",
        "def pred(node,dt):\n",
        "    for child in node.children:\n",
        "      if(dt[child.ATR]>=child.LR[0] and dt[child.ATR]<=child.LR[1] ):\n",
        "        pred(child,dt)\n",
        "        if child.children != ():\n",
        "            if(pred(child,dt)):\n",
        "               return \"Yes\"\n",
        "        else :\n",
        "            return \"Yes\"\n",
        "      else :\n",
        "        continue\n",
        "    return \"No\"\n"
      ],
      "metadata": {
        "id": "dqbFiPdkgowP"
      },
      "execution_count": 49,
      "outputs": []
    },
    {
      "cell_type": "code",
      "source": [
        "dt=x0[2]"
      ],
      "metadata": {
        "id": "q_aKQ144ivLT"
      },
      "execution_count": 50,
      "outputs": []
    },
    {
      "cell_type": "code",
      "source": [
        "dt"
      ],
      "metadata": {
        "colab": {
          "base_uri": "https://localhost:8080/"
        },
        "id": "d29DOYkJiyEq",
        "outputId": "4a2a2227-b167-4a9d-a6b7-42515bc0ab09"
      },
      "execution_count": 51,
      "outputs": [
        {
          "output_type": "execute_result",
          "data": {
            "text/plain": [
              "array([4.7, 3.2, 1.3, 0.2])"
            ]
          },
          "metadata": {},
          "execution_count": 51
        }
      ]
    },
    {
      "cell_type": "markdown",
      "source": [
        "# comparing results with the svdd method"
      ],
      "metadata": {
        "id": "7PSCA8RDVP1a"
      }
    },
    {
      "cell_type": "code",
      "source": [
        "pip install deep-svdd  # Example, adjust based on actual package/library\n"
      ],
      "metadata": {
        "colab": {
          "base_uri": "https://localhost:8080/"
        },
        "id": "QxuEmEJyVaCX",
        "outputId": "50d75753-51f1-4133-f4d5-25da30d950f0"
      },
      "execution_count": 52,
      "outputs": [
        {
          "output_type": "stream",
          "name": "stdout",
          "text": [
            "Collecting deep-svdd\n",
            "  Using cached deep_svdd-1.3-py3-none-any.whl (5.2 kB)\n",
            "Requirement already satisfied: numpy in /usr/local/lib/python3.10/dist-packages (from deep-svdd) (1.25.2)\n",
            "Requirement already satisfied: scikit-learn in /usr/local/lib/python3.10/dist-packages (from deep-svdd) (1.2.2)\n",
            "Collecting tensorflow-gpu>=1.12.0 (from deep-svdd)\n",
            "  Using cached tensorflow-gpu-2.12.0.tar.gz (2.6 kB)\n",
            "  \u001b[1;31merror\u001b[0m: \u001b[1msubprocess-exited-with-error\u001b[0m\n",
            "  \n",
            "  \u001b[31m×\u001b[0m \u001b[32mpython setup.py egg_info\u001b[0m did not run successfully.\n",
            "  \u001b[31m│\u001b[0m exit code: \u001b[1;36m1\u001b[0m\n",
            "  \u001b[31m╰─>\u001b[0m See above for output.\n",
            "  \n",
            "  \u001b[1;35mnote\u001b[0m: This error originates from a subprocess, and is likely not a problem with pip.\n",
            "  Preparing metadata (setup.py) ... \u001b[?25l\u001b[?25herror\n",
            "\u001b[1;31merror\u001b[0m: \u001b[1mmetadata-generation-failed\u001b[0m\n",
            "\n",
            "\u001b[31m×\u001b[0m Encountered error while generating package metadata.\n",
            "\u001b[31m╰─>\u001b[0m See above for output.\n",
            "\n",
            "\u001b[1;35mnote\u001b[0m: This is an issue with the package mentioned above, not pip.\n",
            "\u001b[1;36mhint\u001b[0m: See above for details.\n"
          ]
        }
      ]
    },
    {
      "cell_type": "markdown",
      "source": [
        "# Conducting Experiments"
      ],
      "metadata": {
        "id": "IG94ke3JRuJB"
      }
    },
    {
      "cell_type": "markdown",
      "source": [
        "## Using Approach A :- where we are deviding our dataset into training and test dataset with training as 90% of the data while testing as the 10%of the data. this has been done due to lower number of instances availiable for a particular class in our IRIS dataset"
      ],
      "metadata": {
        "id": "8kxAr9mtPrrd"
      }
    },
    {
      "cell_type": "markdown",
      "source": [
        "### For Class 0"
      ],
      "metadata": {
        "id": "6aMuv6KPRzJU"
      }
    },
    {
      "cell_type": "code",
      "source": [
        "from sklearn.metrics import precision_score, recall_score\n",
        "from sklearn.svm import OneClassSVM  # Assuming SVDD is similar to sklearn's OneClassSVM for demonstration\n",
        "\n",
        "dft0 = pd.DataFrame( [],columns=[\"PATH\",\"ATR\",\"LR\"])\n",
        "\n",
        "# Split the data into training and testing sets\n",
        "X_train, X_test = train_test_split(x0, test_size=0.1, random_state=2)\n",
        "\n",
        "fit(X_train,0,int(beta*len(X_train)),'0',dft0)\n",
        "rooot0 = dataframe_to_tree(dft0)\n",
        "rooot0.show(attr_list=[\"PATH\",\"ATR\",\"LR\"])\n",
        "\n",
        "# Train SVDD\n",
        "svdd_model = OneClassSVM(kernel='rbf', nu=0.1)  # Nu parameter determines the ratio of outliers\n",
        "svdd_model.fit(X_train)\n",
        "\n",
        "# Predictions for SVDD\n",
        "svdd_predictions = svdd_model.predict(X_test)  # SVDD predicts 1 for inliers and -1 for outliers\n",
        "\n",
        "# Convert SVDD predictions to match Simple OC Tree format (1 for target class, -1 for outliers)\n",
        "svdd_predictions = np.where(svdd_predictions == 1, 1, -1)\n",
        "\n",
        "pred_arr = []\n",
        "for i in range(len(X_test)):\n",
        "  if(pred(rooot0, X_test[i]) == \"Yes\"):\n",
        "    pred_arr.append(1)\n",
        "  else:\n",
        "    pred_arr.append(-1)\n",
        "\n",
        "# Calculate precision and recall for both models\n",
        "oc_tree_precision = precision_score(y_true=np.ones(len(X_test)), y_pred=pred_arr)\n",
        "oc_tree_recall = recall_score(y_true=np.ones(len(X_test)), y_pred=pred_arr)\n",
        "\n",
        "f1_score_oc_tree = 2*(oc_tree_precision * oc_tree_recall)/ ( oc_tree_precision + oc_tree_recall)\n",
        "\n",
        "svdd_precision = precision_score(y_true=np.ones(len(X_test)), y_pred=svdd_predictions)\n",
        "svdd_recall = recall_score(y_true=np.ones(len(X_test)), y_pred=svdd_predictions)\n",
        "\n",
        "f1_score_svdd = 2*(svdd_precision * svdd_recall)/ ( svdd_precision + svdd_recall)\n",
        "\n",
        "\n",
        "print(\"OC Tree Precision:\", oc_tree_precision)\n",
        "print(\"OC Tree Recall:\", oc_tree_recall)\n",
        "print(\"OC Tree F1 Score:\", f1_score_oc_tree)\n",
        "print(\"SVDD Precision:\", svdd_precision)\n",
        "print(\"SVDD Recall:\", svdd_recall)\n",
        "print(\"SVDD F1 Score:\", f1_score_svdd)\n",
        "plt.tight_layout()\n",
        "plt.show()\n"
      ],
      "metadata": {
        "colab": {
          "base_uri": "https://localhost:8080/",
          "height": 237
        },
        "id": "SC8rRtEWVtOb",
        "outputId": "05948315-96ac-4c0b-917b-2975c867764a"
      },
      "execution_count": 53,
      "outputs": [
        {
          "output_type": "stream",
          "name": "stdout",
          "text": [
            "0 [ATR=None, LR=None]\n",
            "└── 1 [ATR=3, LR=[0.1 0.4]]\n",
            "    └── 2 [ATR=2, LR=[1.2, 1.7]]\n",
            "        └── 3 [ATR=0, LR=[4.4, 5.8]]\n",
            "            └── 4 [ATR=0, LR=[4.4, 5.8]]\n",
            "OC Tree Precision: 1.0\n",
            "OC Tree Recall: 1.0\n",
            "OC Tree F1 Score: 1.0\n",
            "SVDD Precision: 1.0\n",
            "SVDD Recall: 0.8\n",
            "SVDD F1 Score: 0.888888888888889\n"
          ]
        },
        {
          "output_type": "display_data",
          "data": {
            "text/plain": [
              "<Figure size 640x480 with 0 Axes>"
            ]
          },
          "metadata": {}
        }
      ]
    },
    {
      "cell_type": "markdown",
      "source": [
        "## Using Approach B:- where we are taking another classes data as our outlier and testing our model based on it on predicting the outlier"
      ],
      "metadata": {
        "id": "4Z79UqgeQGT1"
      }
    },
    {
      "cell_type": "markdown",
      "source": [
        "#### For Class 0 with class 2 data as outliers in the test data"
      ],
      "metadata": {
        "id": "e6ozTVOvQSZV"
      }
    },
    {
      "cell_type": "code",
      "source": [
        "from sklearn.metrics import precision_score, recall_score\n",
        "from sklearn.svm import OneClassSVM  # Assuming SVDD is similar to sklearn's OneClassSVM for demonstration\n",
        "\n",
        "dft0 = pd.DataFrame( [],columns=[\"PATH\",\"ATR\",\"LR\"])\n",
        "\n",
        "# Split the data into training and testing sets\n",
        "_, X_test_target = train_test_split(x0, test_size=0.2, random_state=42)\n",
        "X_train = x0\n",
        "\n",
        "# Similarly, take a portion of x2 to use as outliers in the test set\n",
        "_, X_test_outliers = train_test_split(x1, test_size=0.2, random_state=42)\n",
        "\n",
        "# Combine the target part and the outlier part to form the new test set\n",
        "X_test = np.concatenate((X_test_target, X_test_outliers), axis=0)\n",
        "\n",
        "\n",
        "fit(X_train,0,int(beta*len(X_train)),'0',dft0)\n",
        "rooot0 = dataframe_to_tree(dft0)\n",
        "rooot0.show(attr_list=[\"PATH\",\"ATR\",\"LR\"])\n",
        "\n",
        "# Train SVDD\n",
        "svdd_model = OneClassSVM(kernel='rbf', nu=0.1)  # Nu parameter determines the ratio of outliers\n",
        "svdd_model.fit(X_train)\n",
        "\n",
        "# Predictions for SVDD\n",
        "svdd_predictions = svdd_model.predict(X_test)  # SVDD predicts 1 for inliers and -1 for outliers\n",
        "\n",
        "# Convert SVDD predictions to match Simple OC Tree format (1 for target class, -1 for outliers)\n",
        "svdd_predictions = np.where(svdd_predictions == 1, 1, -1)\n",
        "\n",
        "pred_arr = []\n",
        "for i in range(len(X_test)):\n",
        "  if(pred(rooot0, X_test[i]) == \"Yes\"):\n",
        "    pred_arr.append(1)\n",
        "  else:\n",
        "    pred_arr.append(-1)\n",
        "\n",
        "\n",
        "# Use floor division to ensure the argument is an integer\n",
        "array_true_val = [np.ones(len(X_test) // 2), np.ones(len(X_test) - (len(X_test) // 2)) * -1]\n",
        "array_true_val = np.concatenate(array_true_val)\n",
        "\n",
        "# Calculate precision and recall for both models\n",
        "oc_tree_precision = precision_score(y_true=array_true_val, y_pred=pred_arr)\n",
        "oc_tree_recall = recall_score(y_true=array_true_val, y_pred=pred_arr)\n",
        "\n",
        "f1_score_oc_tree = 2*(oc_tree_precision * oc_tree_recall)/ ( oc_tree_precision + oc_tree_recall)\n",
        "\n",
        "svdd_precision = precision_score(y_true=array_true_val, y_pred=svdd_predictions)\n",
        "svdd_recall = recall_score(y_true=array_true_val, y_pred=svdd_predictions)\n",
        "\n",
        "f1_score_svdd = 2*(svdd_precision * svdd_recall)/ ( svdd_precision + svdd_recall)\n",
        "\n",
        "\n",
        "print(\"OC Tree Precision:\", oc_tree_precision)\n",
        "print(\"OC Tree Recall:\", oc_tree_recall)\n",
        "print(\"OC Tree F1 Score:\", f1_score_oc_tree)\n",
        "print(\"SVDD Precision:\", svdd_precision)\n",
        "print(\"SVDD Recall:\", svdd_recall)\n",
        "print(\"SVDD F1 Score:\", f1_score_svdd)\n",
        "plt.tight_layout()\n",
        "plt.show()\n"
      ],
      "metadata": {
        "colab": {
          "base_uri": "https://localhost:8080/",
          "height": 237
        },
        "outputId": "a003766b-ae0d-496c-ab03-25d4550687a7",
        "id": "L8btgRNqQaZe"
      },
      "execution_count": 54,
      "outputs": [
        {
          "output_type": "stream",
          "name": "stdout",
          "text": [
            "0 [ATR=None, LR=None]\n",
            "└── 1 [ATR=3, LR=[0.1 0.4]]\n",
            "    └── 2 [ATR=1, LR=[2.9, 4.4]]\n",
            "        └── 3 [ATR=2, LR=[1.0, 1.7]]\n",
            "            └── 4 [ATR=0, LR=[4.3, 5.8]]\n",
            "OC Tree Precision: 1.0\n",
            "OC Tree Recall: 1.0\n",
            "OC Tree F1 Score: 1.0\n",
            "SVDD Precision: 1.0\n",
            "SVDD Recall: 0.9\n",
            "SVDD F1 Score: 0.9473684210526316\n"
          ]
        },
        {
          "output_type": "display_data",
          "data": {
            "text/plain": [
              "<Figure size 640x480 with 0 Axes>"
            ]
          },
          "metadata": {}
        }
      ]
    }
  ],
  "metadata": {
    "colab": {
      "provenance": []
    },
    "kernelspec": {
      "display_name": "Python 3",
      "name": "python3"
    },
    "language_info": {
      "name": "python"
    }
  },
  "nbformat": 4,
  "nbformat_minor": 0
}